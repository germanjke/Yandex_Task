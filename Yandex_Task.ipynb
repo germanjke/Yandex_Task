{
 "cells": [
  {
   "cell_type": "markdown",
   "metadata": {},
   "source": [
    "У вас есть набор из 100 нечестных монеток, у i-ой монеты вероятность выпадения орла равна 1/(2i+1), для (i = 1, 2, ... , 100). \n",
    "Результаты для каждой монеты являются независимыми. \n",
    "Вы бросили все монеты по одному разу, какова вероятность того, что мы получили нечетное количество орлов?"
   ]
  },
  {
   "cell_type": "code",
   "execution_count": 1,
   "metadata": {},
   "outputs": [
    {
     "name": "stdout",
     "output_type": "stream",
     "text": [
      "100/201\n"
     ]
    }
   ],
   "source": [
    "from fractions import Fraction\n",
    "\n",
    "\n",
    "def p(n):\n",
    "    x, y = Fraction(1), Fraction(0)\n",
    "    for i in range(n * 2, 0, -2):\n",
    "        x, y = (x * i + y) / (i + 1), (x + y * i) / (i + 1),\n",
    "    return y\n",
    "\n",
    "\n",
    "print(p(100))"
   ]
  },
  {
   "cell_type": "markdown",
   "metadata": {},
   "source": [
    "Классификатор Антиробота должен отличать роботов от людей. Иван и Марья написали классификаторы для потока, про который известно, что роботов там ровно половина. Классификатор Ивана опознаёт 80% роботов из всех роботов, но находит (ошибочно) 40% роботов среди всех людей. Классификатор Марьи опознаёт 60% роботов из всех роботов, но считает роботами 20% людей. \n",
    "Если предположить, что они написали один и тот же классификатор, определяющий «роботность» посещения в пределах от 0 до 1, но выбрали различный порог срабатывания, какая у этого классификатора может быть максимальная f-мера?"
   ]
  },
  {
   "cell_type": "markdown",
   "metadata": {},
   "source": [
    "Пусть роботы - это positive class, а люди - negative\n",
    "Формулы нужные для задачи:\n",
    "F1 (F-мера с одниковыми весами классификатора) мера: \n",
    "(2 * Presicision * Recall) / (Presicion+Recall)\n",
    "Presicision = TP / (TP+FP), Recall = TP / (TP+FN)\n",
    "\n",
    "Тогда получается что Precision Ивана = 80/100 , а Марьи = 60/100, Recall Ивана = (100-40)/100, Recall Марьи = (100-20)/100"
   ]
  },
  {
   "cell_type": "code",
   "execution_count": 2,
   "metadata": {},
   "outputs": [],
   "source": [
    "def F1(pre, re):\n",
    "    f = (2*pre*re)/(pre+re)\n",
    "    return f"
   ]
  },
  {
   "cell_type": "markdown",
   "metadata": {},
   "source": [
    "Максимальная F1 мера может быть при максимальных значениях Precision и Recall, а это Precision Ивана = 0,8 и Recall Марьми = 0,8"
   ]
  },
  {
   "cell_type": "code",
   "execution_count": 3,
   "metadata": {},
   "outputs": [
    {
     "name": "stdout",
     "output_type": "stream",
     "text": [
      "0.8000000000000002\n"
     ]
    }
   ],
   "source": [
    "print(F1(0.8,0.8))"
   ]
  },
  {
   "cell_type": "code",
   "execution_count": null,
   "metadata": {},
   "outputs": [],
   "source": []
  }
 ],
 "metadata": {
  "kernelspec": {
   "display_name": "Python 3",
   "language": "python",
   "name": "python3"
  },
  "language_info": {
   "codemirror_mode": {
    "name": "ipython",
    "version": 3
   },
   "file_extension": ".py",
   "mimetype": "text/x-python",
   "name": "python",
   "nbconvert_exporter": "python",
   "pygments_lexer": "ipython3",
   "version": "3.7.6"
  }
 },
 "nbformat": 4,
 "nbformat_minor": 2
}
