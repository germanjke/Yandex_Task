{
 "cells": [
  {
   "attachments": {},
   "cell_type": "markdown",
   "metadata": {},
   "source": [
    "##### Решение данной задачи принадлежит не мне, оно находится по [ссылке](https://habr.com/ru/company/yandex/blog/414997/)\n",
    "##### Решение произвело на меня впечатление своей красотой и достаточно простым алгоритмом, поэтому хочу реализовать его самостоятельно на другом примере, всё также из вступительных к стажировки Яндекса по ml. \n",
    "![image.png](https://files.slack.com/files-pri/T040HKJE3-FT74XQU23/p00125-145530_1_.jpg)"
   ]
  },
  {
   "cell_type": "code",
   "execution_count": 1,
   "metadata": {},
   "outputs": [
    {
     "data": {
      "text/latex": [
       "$\\displaystyle f(x) = a^2 \\cdot \\sin^2(x) + b^2 \\cdot \\ln^2(x) + 2ab\\cdot \\sin(x) \\cdot \\ln(x) + c \\cdot x^2$"
      ],
      "text/plain": [
       "<IPython.core.display.Math object>"
      ]
     },
     "execution_count": 1,
     "metadata": {},
     "output_type": "execute_result"
    }
   ],
   "source": [
    "from IPython.display import Math\n",
    "#Расскроем скобки без учёта случайных величин\n",
    "Math(r'f(x) = a^2 \\cdot \\sin^2(x) + b^2 \\cdot \\ln^2(x) + 2ab\\cdot \\sin(x) \\cdot \\ln(x) + c \\cdot x^2')"
   ]
  },
  {
   "cell_type": "markdown",
   "metadata": {},
   "source": [
    "##### Теперь мы получили задачу многомерной линейной регрессии без свободного коэффициента. Признаками в этой задаче являются величины:"
   ]
  },
  {
   "cell_type": "code",
   "execution_count": 2,
   "metadata": {},
   "outputs": [
    {
     "data": {
      "text/latex": [
       "$\\displaystyle \\sin^2(x), \\ln^2(x), \\sin(x)*ln(x), x^2$"
      ],
      "text/plain": [
       "<IPython.core.display.Math object>"
      ]
     },
     "execution_count": 2,
     "metadata": {},
     "output_type": "execute_result"
    }
   ],
   "source": [
    "Math(r'\\sin^2(x), \\ln^2(x), \\sin(x)*ln(x), x^2')"
   ]
  },
  {
   "cell_type": "code",
   "execution_count": 3,
   "metadata": {},
   "outputs": [
    {
     "data": {
      "text/latex": [
       "$\\displaystyle a = \\sqrt(t_1), b = \\sqrt(t_2), c = t_4$"
      ],
      "text/plain": [
       "<IPython.core.display.Math object>"
      ]
     },
     "execution_count": 3,
     "metadata": {},
     "output_type": "execute_result"
    }
   ],
   "source": [
    "#Коэффициенты a,b,c из этого будут равны:\n",
    "Math(r'a = \\sqrt(t_1), b = \\sqrt(t_2), c = t_4')"
   ]
  },
  {
   "cell_type": "code",
   "execution_count": 4,
   "metadata": {},
   "outputs": [
    {
     "data": {
      "text/latex": [
       "$\\displaystyle 2\\cdot a \\cdot b \\approx t_3$"
      ],
      "text/plain": [
       "<IPython.core.display.Math object>"
      ]
     },
     "execution_count": 4,
     "metadata": {},
     "output_type": "execute_result"
    }
   ],
   "source": [
    "#Дополнительно стоит проверить, что:\n",
    "Math(r'2\\cdot a \\cdot b \\approx t_3')"
   ]
  },
  {
   "cell_type": "code",
   "execution_count": 5,
   "metadata": {},
   "outputs": [],
   "source": [
    "import numpy as np\n",
    "import pandas as pd\n",
    "import sklearn.linear_model as lm"
   ]
  },
  {
   "cell_type": "code",
   "execution_count": 6,
   "metadata": {},
   "outputs": [],
   "source": [
    "data = pd.read_csv('E:\\Desktop\\data.csv', header=None)"
   ]
  },
  {
   "cell_type": "code",
   "execution_count": 7,
   "metadata": {},
   "outputs": [
    {
     "data": {
      "text/html": [
       "<div>\n",
       "<style scoped>\n",
       "    .dataframe tbody tr th:only-of-type {\n",
       "        vertical-align: middle;\n",
       "    }\n",
       "\n",
       "    .dataframe tbody tr th {\n",
       "        vertical-align: top;\n",
       "    }\n",
       "\n",
       "    .dataframe thead th {\n",
       "        text-align: right;\n",
       "    }\n",
       "</style>\n",
       "<table border=\"1\" class=\"dataframe\">\n",
       "  <thead>\n",
       "    <tr style=\"text-align: right;\">\n",
       "      <th></th>\n",
       "      <th>0</th>\n",
       "      <th>1</th>\n",
       "    </tr>\n",
       "  </thead>\n",
       "  <tbody>\n",
       "    <tr>\n",
       "      <th>0</th>\n",
       "      <td>9.481538</td>\n",
       "      <td>394.853787</td>\n",
       "    </tr>\n",
       "    <tr>\n",
       "      <th>1</th>\n",
       "      <td>6.878546</td>\n",
       "      <td>238.295702</td>\n",
       "    </tr>\n",
       "    <tr>\n",
       "      <th>2</th>\n",
       "      <td>9.436524</td>\n",
       "      <td>393.053669</td>\n",
       "    </tr>\n",
       "    <tr>\n",
       "      <th>3</th>\n",
       "      <td>3.572694</td>\n",
       "      <td>55.666155</td>\n",
       "    </tr>\n",
       "    <tr>\n",
       "      <th>4</th>\n",
       "      <td>1.079596</td>\n",
       "      <td>13.537515</td>\n",
       "    </tr>\n",
       "  </tbody>\n",
       "</table>\n",
       "</div>"
      ],
      "text/plain": [
       "          0           1\n",
       "0  9.481538  394.853787\n",
       "1  6.878546  238.295702\n",
       "2  9.436524  393.053669\n",
       "3  3.572694   55.666155\n",
       "4  1.079596   13.537515"
      ]
     },
     "execution_count": 7,
     "metadata": {},
     "output_type": "execute_result"
    }
   ],
   "source": [
    "data.head()"
   ]
  },
  {
   "cell_type": "markdown",
   "metadata": {},
   "source": [
    "##### Ключевой особенностью между решением в статье и этим блокнотом является, то что в статье данные предоставлялись в формате .txt, тут же был дан формат .csv. В статье были проведены определённые действия, которые преобразовывают текст в числа, здесь же я просто перевёд колонны в списки"
   ]
  },
  {
   "cell_type": "code",
   "execution_count": 8,
   "metadata": {},
   "outputs": [],
   "source": [
    "x_list = data[0].tolist()\n",
    "y_list = data[1].tolist()"
   ]
  },
  {
   "cell_type": "markdown",
   "metadata": {},
   "source": [
    "##### Далее, возводим все значения x в величины нашей многомерной линейной регрессии"
   ]
  },
  {
   "cell_type": "code",
   "execution_count": 9,
   "metadata": {},
   "outputs": [],
   "source": [
    "features = []\n",
    "for row in x_list:\n",
    "    curFeatures = [\n",
    "        np.sin(row) ** 2,              # a^2\n",
    "        np.log(row) ** 2,              # b^2\n",
    "        np.sin(row) * np.log(row),     # 2ab\n",
    "        row ** 2                        # c\n",
    "    ]\n",
    "    features.append(curFeatures)"
   ]
  },
  {
   "cell_type": "code",
   "execution_count": 10,
   "metadata": {},
   "outputs": [
    {
     "name": "stdout",
     "output_type": "stream",
     "text": [
      "free coeff:  -0.0007005520849645563\n",
      "2ab error:  -0.0013463278998315786\n",
      "3.1417288382155846 2.718428892528898 3.999957864335597\n"
     ]
    }
   ],
   "source": [
    "#Обучаем модель на новых величиных(features) и значений функции(y_list)\n",
    "\n",
    "linearModel = lm.LinearRegression()\n",
    "linearModel.fit(features, y_list)\n",
    "\n",
    "coeffs = linearModel.coef_\n",
    "\n",
    "a = np.sqrt(coeffs[0])\n",
    "b = np.sqrt(coeffs[1])\n",
    "c = coeffs[3]\n",
    "\n",
    "print (\"free coeff: \", linearModel.intercept_)\n",
    "print (\"2ab error: \", coeffs[2] - 2 * a * b)\n",
    "print (a, b, c)"
   ]
  },
  {
   "cell_type": "markdown",
   "metadata": {},
   "source": [
    "##### free coeff удовлетворяет условиям задачи, 2ab error не критична, мы получили оптимальные коэффициенты"
   ]
  },
  {
   "cell_type": "code",
   "execution_count": null,
   "metadata": {},
   "outputs": [],
   "source": []
  }
 ],
 "metadata": {
  "kernelspec": {
   "display_name": "Python 3",
   "language": "python",
   "name": "python3"
  },
  "language_info": {
   "codemirror_mode": {
    "name": "ipython",
    "version": 3
   },
   "file_extension": ".py",
   "mimetype": "text/x-python",
   "name": "python",
   "nbconvert_exporter": "python",
   "pygments_lexer": "ipython3",
   "version": "3.7.6"
  }
 },
 "nbformat": 4,
 "nbformat_minor": 2
}
