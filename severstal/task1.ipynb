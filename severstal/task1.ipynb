{
 "cells": [
  {
   "cell_type": "code",
   "execution_count": 96,
   "metadata": {},
   "outputs": [],
   "source": [
    "import pandas as pd\n",
    "import matplotlib.pyplot as plt\n",
    "import seaborn as sns\n",
    "sns.set(rc={'figure.figsize':(15, 6)})"
   ]
  },
  {
   "cell_type": "code",
   "execution_count": 27,
   "metadata": {},
   "outputs": [],
   "source": [
    "df = pd.read_csv('Статистика за 2018 год.csv', encoding = \"cp1251\")"
   ]
  },
  {
   "cell_type": "markdown",
   "metadata": {},
   "source": [
    "### Задание 1\n",
    "\n",
    "Сотрудник службы оценки качества продукции заметил, что число бракованных листов\n",
    "стали в партии для стали марки A больше, чем для стали марки B. \n",
    "\n",
    "Также он обратил внимание, что при средней скорости прокатки более 4 м/с число бракованных листов\n",
    "больше. В соответствии с этими наблюдениями, предлагается снизить скорость прокатки\n",
    "и ввести дополнительные меры контроля качества для стали марки A.\n",
    "\n",
    "Обоснуйте, что:\n",
    "\n",
    "1) Более 3 бракованных листов на партию выходит значимо чаще для стали марки А, чем для стали марки B.\n",
    "\n",
    "2) При скоростях прокатки более 4 м/с свыше 3 бракованных листов стали на партию выходит значимо чаще, чем при меньших скоростях прокатки.\n",
    "\n",
    "Данные, необходимые для анализа, содержатся в файле «Статистика за 2018 год».\n",
    "Количество листов стали в каждой партии предполагается одинаковым."
   ]
  },
  {
   "cell_type": "code",
   "execution_count": 28,
   "metadata": {},
   "outputs": [
    {
     "data": {
      "text/html": [
       "<div>\n",
       "<style scoped>\n",
       "    .dataframe tbody tr th:only-of-type {\n",
       "        vertical-align: middle;\n",
       "    }\n",
       "\n",
       "    .dataframe tbody tr th {\n",
       "        vertical-align: top;\n",
       "    }\n",
       "\n",
       "    .dataframe thead th {\n",
       "        text-align: right;\n",
       "    }\n",
       "</style>\n",
       "<table border=\"1\" class=\"dataframe\">\n",
       "  <thead>\n",
       "    <tr style=\"text-align: right;\">\n",
       "      <th></th>\n",
       "      <th>Число бракованных листов</th>\n",
       "      <th>Скорость прокатки</th>\n",
       "      <th>Марка стали</th>\n",
       "    </tr>\n",
       "  </thead>\n",
       "  <tbody>\n",
       "    <tr>\n",
       "      <th>0</th>\n",
       "      <td>3</td>\n",
       "      <td>3.8</td>\n",
       "      <td>A</td>\n",
       "    </tr>\n",
       "    <tr>\n",
       "      <th>1</th>\n",
       "      <td>3</td>\n",
       "      <td>3.8</td>\n",
       "      <td>B</td>\n",
       "    </tr>\n",
       "    <tr>\n",
       "      <th>2</th>\n",
       "      <td>3</td>\n",
       "      <td>4.8</td>\n",
       "      <td>B</td>\n",
       "    </tr>\n",
       "    <tr>\n",
       "      <th>3</th>\n",
       "      <td>4</td>\n",
       "      <td>4.4</td>\n",
       "      <td>B</td>\n",
       "    </tr>\n",
       "    <tr>\n",
       "      <th>4</th>\n",
       "      <td>6</td>\n",
       "      <td>5.0</td>\n",
       "      <td>B</td>\n",
       "    </tr>\n",
       "    <tr>\n",
       "      <th>...</th>\n",
       "      <td>...</td>\n",
       "      <td>...</td>\n",
       "      <td>...</td>\n",
       "    </tr>\n",
       "    <tr>\n",
       "      <th>232</th>\n",
       "      <td>1</td>\n",
       "      <td>4.7</td>\n",
       "      <td>A</td>\n",
       "    </tr>\n",
       "    <tr>\n",
       "      <th>233</th>\n",
       "      <td>3</td>\n",
       "      <td>3.4</td>\n",
       "      <td>A</td>\n",
       "    </tr>\n",
       "    <tr>\n",
       "      <th>234</th>\n",
       "      <td>2</td>\n",
       "      <td>5.5</td>\n",
       "      <td>A</td>\n",
       "    </tr>\n",
       "    <tr>\n",
       "      <th>235</th>\n",
       "      <td>3</td>\n",
       "      <td>5.0</td>\n",
       "      <td>B</td>\n",
       "    </tr>\n",
       "    <tr>\n",
       "      <th>236</th>\n",
       "      <td>5</td>\n",
       "      <td>4.7</td>\n",
       "      <td>A</td>\n",
       "    </tr>\n",
       "  </tbody>\n",
       "</table>\n",
       "<p>237 rows × 3 columns</p>\n",
       "</div>"
      ],
      "text/plain": [
       "     Число бракованных листов  Скорость прокатки Марка стали\n",
       "0                           3                3.8           A\n",
       "1                           3                3.8           B\n",
       "2                           3                4.8           B\n",
       "3                           4                4.4           B\n",
       "4                           6                5.0           B\n",
       "..                        ...                ...         ...\n",
       "232                         1                4.7           A\n",
       "233                         3                3.4           A\n",
       "234                         2                5.5           A\n",
       "235                         3                5.0           B\n",
       "236                         5                4.7           A\n",
       "\n",
       "[237 rows x 3 columns]"
      ]
     },
     "execution_count": 28,
     "metadata": {},
     "output_type": "execute_result"
    }
   ],
   "source": [
    "df"
   ]
  },
  {
   "cell_type": "code",
   "execution_count": 56,
   "metadata": {},
   "outputs": [
    {
     "name": "stdout",
     "output_type": "stream",
     "text": [
      "В марке стали A число бракованных листов составляет: 442,а в марке стали B: 330.\n",
      "Сотрудник нас не обманул.\n"
     ]
    }
   ],
   "source": [
    "# Давайте перепроверим первое условие задачи, не обманул ли нас сотрудник\n",
    "sum_of_defective_A = df['Число бракованных листов'][df['Марка стали'] == 'A'].sum()\n",
    "sum_of_defective_B = df['Число бракованных листов'][df['Марка стали'] == 'B'].sum()\n",
    "print(f\"В марке стали A число бракованных листов составляет: {sum_of_defective_A},\"\n",
    "      f\"а в марке стали B: {sum_of_defective_B}.\")\n",
    "if sum_of_defective_A > sum_of_defective_B:\n",
    "    print('Сотрудник нас не обманул.')\n",
    "else:\n",
    "    print('Сотрудник что-то не договаривает.')"
   ]
  },
  {
   "cell_type": "code",
   "execution_count": 57,
   "metadata": {},
   "outputs": [
    {
     "name": "stdout",
     "output_type": "stream",
     "text": [
      "Число бракованных листов со скоростью больше 4 составляет: 594,а со скоростью 4 и ниже : 178.\n",
      "Сотрудник нас не обманул\n"
     ]
    }
   ],
   "source": [
    "# Давайте перепроверим второе условие задачи, не обманул ли нас сотрудник ещё раз\n",
    "sum_of_defective_bigger_4velocity = df['Число бракованных листов'][df['Скорость прокатки'] > 4].sum()\n",
    "sum_of_defective_not_bigger_4velocity = df['Число бракованных листов'][df['Скорость прокатки'] <= 4].sum()\n",
    "print(f\"Число бракованных листов со скоростью больше 4 составляет: {sum_of_defective_bigger_4velocity},\"\n",
    "      f\"а со скоростью 4 и ниже : {sum_of_defective_not_bigger_4velocity}.\")\n",
    "if sum_of_defective_bigger_4velocity > sum_of_defective_not_bigger_4velocity:\n",
    "    print('Сотрудник нас не обманул')\n",
    "else:\n",
    "    print('Сотрудник что-то не договаривает.')"
   ]
  },
  {
   "cell_type": "markdown",
   "metadata": {},
   "source": [
    "### Обоснуем, что\n",
    "\n",
    "Более 3 бракованных листов на партию выходит значимо чаще для стали марки А, чем для стали марки B."
   ]
  },
  {
   "cell_type": "code",
   "execution_count": 116,
   "metadata": {},
   "outputs": [
    {
     "data": {
      "image/png": "[encoded data removed]",
      "text/plain": [
       "<Figure size 1080x432 with 2 Axes>"
      ]
     },
     "metadata": {},
     "output_type": "display_data"
    }
   ],
   "source": [
    "fig, (ax1, ax2) =plt.subplots(1,2)\n",
    "ax1 = sns.countplot(x=\"Число бракованных листов\", data=df[df['Марка стали'] == 'A'], ax=ax1)\n",
    "ax1.set_title('Для стали марки А', size=15)\n",
    "ax1.set_xlabel('Число бракованных листов', size=15)\n",
    "ax1.set_ylabel('Количество таких партий', size=15)\n",
    "ax2 = sns.countplot(x=\"Число бракованных листов\", data=df[df['Марка стали'] == 'B'], ax=ax2)\n",
    "ax2.set_title('Для стали марки B', size=15)\n",
    "ax2.set_xlabel('Число бракованных листов', size=15)\n",
    "ax2.set_ylabel('Количество таких партий', size=15)\n",
    "plt.show()"
   ]
  },
  {
   "cell_type": "markdown",
   "metadata": {},
   "source": [
    "Графики не дают точную картину, перепровим на цифрах."
   ]
  },
  {
   "cell_type": "code",
   "execution_count": 145,
   "metadata": {},
   "outputs": [
    {
     "name": "stdout",
     "output_type": "stream",
     "text": [
      "Количество партий, где более 3 брокованных листов для стали марки А: 53,\n",
      "Количество партий, где более 3 брокованных листов для стали марки B: 44.\n",
      "-----------------------------------------------------------------------------------------------------------\n",
      "Количество партий, где более 3 брокованных листов на партию, больше у стали марки А, чем В.\n",
      "-----------------------------------------------------------------------------------------------------------\n",
      "Но преимущества как такового нет. Их больше всего в 1.205 раз. Поэтому мы не можем говорить о значимом отрыве.\n"
     ]
    }
   ],
   "source": [
    "count_of_defective_lists_bigger_3_A = df['Число бракованных листов'][(df['Марка стали'] == 'A')\n",
    "                                                          & (df['Число бракованных листов'] > 3)].count()\n",
    "count_of_defective_lists_bigger_3_B = df['Число бракованных листов'][(df['Марка стали'] == 'B')\n",
    "                                                          & (df['Число бракованных листов'] > 3)].count()\n",
    "print(f\"Количество партий, где более 3 брокованных листов для стали марки А\"\n",
    "      f\": {count_of_defective_lists_bigger_3_A},\\n\"\n",
    "      f\"Количество партий, где более 3 брокованных листов для стали марки B\"\n",
    "      f\": {count_of_defective_lists_bigger_3_B}.\")\n",
    "print('-----------------------------------------------------------------------------------------------------------')\n",
    "if count_of_defective_lists_bigger_3_A > count_of_defective_lists_bigger_3_B:\n",
    "    print('Количество партий, где более 3 брокованных листов на партию, больше у стали марки А, чем В.')\n",
    "else:\n",
    "    print('Количество партий, где более 3 брокованных листов на партию, больше у стали марки B, чем A.')\n",
    "print('-----------------------------------------------------------------------------------------------------------')\n",
    "if count_of_defective_lists_bigger_3_A > 2 * count_of_defective_lists_bigger_3_B:\n",
    "    print('Преимущество таких случаев как минимум в 2 раза')\n",
    "else:\n",
    "    ratio = count_of_defective_lists_bigger_3_A/count_of_defective_lists_bigger_3_B\n",
    "    print('Но преимущества как такового нет. Их больше всего в %.3f раз. ' %ratio  +\n",
    "          'Поэтому мы не можем говорить о значимом отрыве.')"
   ]
  },
  {
   "cell_type": "markdown",
   "metadata": {},
   "source": [
    "### Обоснуем, что\n",
    "\n",
    "При скоростях прокатки более 4 м/с свыше 3 бракованных листов стали на партию выходит значимо чаще, чем при меньших скоростях прокатки."
   ]
  },
  {
   "cell_type": "code",
   "execution_count": 147,
   "metadata": {},
   "outputs": [
    {
     "data": {
      "image/png": "[encoded data removed]",
      "text/plain": [
       "<Figure size 1080x432 with 2 Axes>"
      ]
     },
     "metadata": {},
     "output_type": "display_data"
    }
   ],
   "source": [
    "fig, (ax1, ax2) =plt.subplots(1,2)\n",
    "ax1 = sns.countplot(x=\"Число бракованных листов\", data=df[df['Скорость прокатки'] > 4], ax=ax1)\n",
    "ax1.set_title('Для скорости больше 4', size=15)\n",
    "ax1.set_xlabel('Число бракованных листов', size=15)\n",
    "ax1.set_ylabel('Количество таких партий', size=15)\n",
    "ax2 = sns.countplot(x=\"Число бракованных листов\", data=df[df['Скорость прокатки'] <= 4], ax=ax2)\n",
    "ax2.set_title('Для скорости 4 и меньше', size=15)\n",
    "ax2.set_xlabel('Число бракованных листов', size=15)\n",
    "ax2.set_ylabel('Количество таких партий', size=15)\n",
    "plt.show()"
   ]
  },
  {
   "cell_type": "code",
   "execution_count": 166,
   "metadata": {},
   "outputs": [
    {
     "name": "stdout",
     "output_type": "stream",
     "text": [
      "Количество партий, где более 3 брокованных листов для скорости прокатки больше 4: 74,\n",
      "Количество партий, где более 3 брокованных листов для скорости прокатки 4 и меньше: 23.\n",
      "-----------------------------------------------------------------------------------------------------------\n",
      "Количество партий, где более 3 брокованных листов на партию, больше на тех листах, где скорость прокатки больше 4.\n",
      "-----------------------------------------------------------------------------------------------------------\n",
      "Преимущество таких случаев как минимум в 2 раза.\n",
      "А именно в 3.217 раз. Можно говорить о значимым влиянии этого признака.\n"
     ]
    }
   ],
   "source": [
    "count_of_defective_lists_bigger_3_4velocity = df['Число бракованных листов'][(df['Скорость прокатки'] > 4)\n",
    "                                                          & (df['Число бракованных листов'] > 3)].count()\n",
    "count_of_defective_lists_bigger_3_not4velocity = df['Число бракованных листов'][(df['Скорость прокатки'] <= 4) & (df['Число бракованных листов'] > 3)].count()\n",
    "print(f\"Количество партий, где более 3 брокованных листов для скорости прокатки больше 4\"\n",
    "      f\": {count_of_defective_lists_bigger_3_4velocity },\\n\"\n",
    "      f\"Количество партий, где более 3 брокованных листов для скорости прокатки 4 и меньше\"\n",
    "      f\": {count_of_defective_lists_bigger_3_not4velocity }.\")\n",
    "print('-----------------------------------------------------------------------------------------------------------')\n",
    "if count_of_defective_lists_bigger_3_4velocity > count_of_defective_lists_bigger_3_not4velocity:\n",
    "    print('Количество партий, где более 3 брокованных листов на партию, больше на тех листах, где скорость '\n",
    "          'прокатки больше 4.')\n",
    "else:\n",
    "    print('Количество партий, где более 3 брокованных листов на партию, больше на тех листах, где скорость '\n",
    "          'прокатки 4 и меньше.')\n",
    "print('-----------------------------------------------------------------------------------------------------------')\n",
    "if count_of_defective_lists_bigger_3_4velocity  > 2 * count_of_defective_lists_bigger_3_not4velocity:\n",
    "    print('Преимущество таких случаев как минимум в 2 раза.')\n",
    "    ratio = count_of_defective_lists_bigger_3_4velocity / count_of_defective_lists_bigger_3_not4velocity\n",
    "    print('А именно в %.3f раз. ' %ratio + 'Можно говорить о значимым влиянии этого признака.')\n",
    "else:\n",
    "    ratio = count_of_defective_lists_bigger_3_4velocity / count_of_defective_lists_bigger_3_not4velocity \n",
    "    print('Но преимущества как такового нет. Их больше всего в %.3f раз. ' %ratio  +\n",
    "          'Поэтому мы не можем говорить о значимом отрыве.')"
   ]
  },
  {
   "cell_type": "markdown",
   "metadata": {},
   "source": [
    "### Итого, сделаем вывод\n",
    "Более 3 бракованных листов на партию выходит чаще для стали марки А,чем для стали марки B. Но совсем незначительно. Этот признак не является очень важным для нас. \n",
    "\n",
    "При скоростях прокатки более 4 м/с свыше 3 бракованных листов стали на партию выходит значимо чаще, чем при меньших скоростях прокатки. Этот признак является важным для нас.\n",
    "\n",
    "Теперь, можно смело обратиться к заводу, и посоветовать им снизить скорость прокрутки, таким образом количество брокованных листов должно сократиться"
   ]
  },
  {
   "cell_type": "code",
   "execution_count": null,
   "metadata": {},
   "outputs": [],
   "source": []
  }
 ],
 "metadata": {
  "kernelspec": {
   "display_name": "Python 3",
   "language": "python",
   "name": "python3"
  },
  "language_info": {
   "codemirror_mode": {
    "name": "ipython",
    "version": 3
   },
   "file_extension": ".py",
   "mimetype": "text/x-python",
   "name": "python",
   "nbconvert_exporter": "python",
   "pygments_lexer": "ipython3",
   "version": "3.7.6"
  }
 },
 "nbformat": 4,
 "nbformat_minor": 4
}
