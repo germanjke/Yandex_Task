{
 "cells": [
  {
   "cell_type": "code",
   "execution_count": 1,
   "metadata": {},
   "outputs": [],
   "source": [
    "import pandas as pd\n",
    "import numpy as np\n",
    "import numpy as np\n",
    "from sklearn.model_selection import train_test_split, cross_val_score\n",
    "from catboost import CatBoostRegressor\n",
    "from lightgbm import LGBMRegressor\n",
    "from xgboost import XGBRegressor\n",
    "from sklearn.metrics import mean_absolute_error, r2_score"
   ]
  },
  {
   "cell_type": "markdown",
   "metadata": {},
   "source": [
    "### Работа с данными"
   ]
  },
  {
   "cell_type": "code",
   "execution_count": 2,
   "metadata": {},
   "outputs": [],
   "source": [
    "X_data = pd.read_csv('X_data.csv', sep=';')\n",
    "Y_train = pd.read_csv('Y_train.csv', sep=';', header=None)\n",
    "Y_subs = pd.read_csv('Y_submit.csv', sep=';', header=None)"
   ]
  },
  {
   "cell_type": "code",
   "execution_count": 3,
   "metadata": {},
   "outputs": [],
   "source": [
    "X_data.rename(columns={\"Unnamed: 0\":'date'}, inplace=True)"
   ]
  },
  {
   "cell_type": "code",
   "execution_count": 4,
   "metadata": {},
   "outputs": [
    {
     "data": {
      "text/html": [
       "<div>\n",
       "<style scoped>\n",
       "    .dataframe tbody tr th:only-of-type {\n",
       "        vertical-align: middle;\n",
       "    }\n",
       "\n",
       "    .dataframe tbody tr th {\n",
       "        vertical-align: top;\n",
       "    }\n",
       "\n",
       "    .dataframe thead th {\n",
       "        text-align: right;\n",
       "    }\n",
       "</style>\n",
       "<table border=\"1\" class=\"dataframe\">\n",
       "  <thead>\n",
       "    <tr style=\"text-align: right;\">\n",
       "      <th></th>\n",
       "      <th>date</th>\n",
       "      <th>T_data_1_1</th>\n",
       "      <th>T_data_1_2</th>\n",
       "      <th>T_data_1_3</th>\n",
       "      <th>T_data_2_1</th>\n",
       "      <th>T_data_2_2</th>\n",
       "      <th>T_data_2_3</th>\n",
       "      <th>T_data_3_1</th>\n",
       "      <th>T_data_3_2</th>\n",
       "      <th>T_data_3_3</th>\n",
       "      <th>T_data_4_1</th>\n",
       "      <th>T_data_4_2</th>\n",
       "      <th>T_data_4_3</th>\n",
       "      <th>T_data_5_1</th>\n",
       "      <th>T_data_5_2</th>\n",
       "      <th>T_data_5_3</th>\n",
       "      <th>H_data</th>\n",
       "      <th>AH_data</th>\n",
       "    </tr>\n",
       "  </thead>\n",
       "  <tbody>\n",
       "    <tr>\n",
       "      <th>0</th>\n",
       "      <td>2015-01-01 00:00:00</td>\n",
       "      <td>212</td>\n",
       "      <td>210</td>\n",
       "      <td>211</td>\n",
       "      <td>347</td>\n",
       "      <td>353</td>\n",
       "      <td>347</td>\n",
       "      <td>474</td>\n",
       "      <td>473</td>\n",
       "      <td>481</td>\n",
       "      <td>346</td>\n",
       "      <td>348</td>\n",
       "      <td>355</td>\n",
       "      <td>241</td>\n",
       "      <td>241</td>\n",
       "      <td>243</td>\n",
       "      <td>167.85</td>\n",
       "      <td>9.22</td>\n",
       "    </tr>\n",
       "    <tr>\n",
       "      <th>1</th>\n",
       "      <td>2015-01-01 00:01:00</td>\n",
       "      <td>212</td>\n",
       "      <td>211</td>\n",
       "      <td>211</td>\n",
       "      <td>346</td>\n",
       "      <td>352</td>\n",
       "      <td>346</td>\n",
       "      <td>475</td>\n",
       "      <td>473</td>\n",
       "      <td>481</td>\n",
       "      <td>349</td>\n",
       "      <td>348</td>\n",
       "      <td>355</td>\n",
       "      <td>241</td>\n",
       "      <td>241</td>\n",
       "      <td>243</td>\n",
       "      <td>162.51</td>\n",
       "      <td>9.22</td>\n",
       "    </tr>\n",
       "    <tr>\n",
       "      <th>2</th>\n",
       "      <td>2015-01-01 00:02:00</td>\n",
       "      <td>212</td>\n",
       "      <td>211</td>\n",
       "      <td>211</td>\n",
       "      <td>345</td>\n",
       "      <td>352</td>\n",
       "      <td>346</td>\n",
       "      <td>476</td>\n",
       "      <td>473</td>\n",
       "      <td>481</td>\n",
       "      <td>352</td>\n",
       "      <td>349</td>\n",
       "      <td>355</td>\n",
       "      <td>242</td>\n",
       "      <td>241</td>\n",
       "      <td>242</td>\n",
       "      <td>164.99</td>\n",
       "      <td>9.22</td>\n",
       "    </tr>\n",
       "    <tr>\n",
       "      <th>3</th>\n",
       "      <td>2015-01-01 00:03:00</td>\n",
       "      <td>213</td>\n",
       "      <td>211</td>\n",
       "      <td>211</td>\n",
       "      <td>344</td>\n",
       "      <td>351</td>\n",
       "      <td>346</td>\n",
       "      <td>477</td>\n",
       "      <td>473</td>\n",
       "      <td>481</td>\n",
       "      <td>355</td>\n",
       "      <td>349</td>\n",
       "      <td>355</td>\n",
       "      <td>242</td>\n",
       "      <td>241</td>\n",
       "      <td>242</td>\n",
       "      <td>167.34</td>\n",
       "      <td>9.22</td>\n",
       "    </tr>\n",
       "    <tr>\n",
       "      <th>4</th>\n",
       "      <td>2015-01-01 00:04:00</td>\n",
       "      <td>213</td>\n",
       "      <td>211</td>\n",
       "      <td>211</td>\n",
       "      <td>343</td>\n",
       "      <td>350</td>\n",
       "      <td>346</td>\n",
       "      <td>478</td>\n",
       "      <td>473</td>\n",
       "      <td>482</td>\n",
       "      <td>358</td>\n",
       "      <td>349</td>\n",
       "      <td>355</td>\n",
       "      <td>243</td>\n",
       "      <td>241</td>\n",
       "      <td>242</td>\n",
       "      <td>163.04</td>\n",
       "      <td>9.22</td>\n",
       "    </tr>\n",
       "  </tbody>\n",
       "</table>\n",
       "</div>"
      ],
      "text/plain": [
       "                  date  T_data_1_1  T_data_1_2  T_data_1_3  T_data_2_1  \\\n",
       "0  2015-01-01 00:00:00         212         210         211         347   \n",
       "1  2015-01-01 00:01:00         212         211         211         346   \n",
       "2  2015-01-01 00:02:00         212         211         211         345   \n",
       "3  2015-01-01 00:03:00         213         211         211         344   \n",
       "4  2015-01-01 00:04:00         213         211         211         343   \n",
       "\n",
       "   T_data_2_2  T_data_2_3  T_data_3_1  T_data_3_2  T_data_3_3  T_data_4_1  \\\n",
       "0         353         347         474         473         481         346   \n",
       "1         352         346         475         473         481         349   \n",
       "2         352         346         476         473         481         352   \n",
       "3         351         346         477         473         481         355   \n",
       "4         350         346         478         473         482         358   \n",
       "\n",
       "   T_data_4_2  T_data_4_3  T_data_5_1  T_data_5_2  T_data_5_3  H_data  AH_data  \n",
       "0         348         355         241         241         243  167.85     9.22  \n",
       "1         348         355         241         241         243  162.51     9.22  \n",
       "2         349         355         242         241         242  164.99     9.22  \n",
       "3         349         355         242         241         242  167.34     9.22  \n",
       "4         349         355         243         241         242  163.04     9.22  "
      ]
     },
     "execution_count": 4,
     "metadata": {},
     "output_type": "execute_result"
    }
   ],
   "source": [
    "X_data.head()"
   ]
  },
  {
   "cell_type": "code",
   "execution_count": 5,
   "metadata": {},
   "outputs": [],
   "source": [
    "Y_train.rename(columns={0:'date', 1:'target'}, inplace=True)"
   ]
  },
  {
   "cell_type": "code",
   "execution_count": 6,
   "metadata": {},
   "outputs": [
    {
     "data": {
      "text/html": [
       "<div>\n",
       "<style scoped>\n",
       "    .dataframe tbody tr th:only-of-type {\n",
       "        vertical-align: middle;\n",
       "    }\n",
       "\n",
       "    .dataframe tbody tr th {\n",
       "        vertical-align: top;\n",
       "    }\n",
       "\n",
       "    .dataframe thead th {\n",
       "        text-align: right;\n",
       "    }\n",
       "</style>\n",
       "<table border=\"1\" class=\"dataframe\">\n",
       "  <thead>\n",
       "    <tr style=\"text-align: right;\">\n",
       "      <th></th>\n",
       "      <th>date</th>\n",
       "      <th>target</th>\n",
       "    </tr>\n",
       "  </thead>\n",
       "  <tbody>\n",
       "    <tr>\n",
       "      <th>0</th>\n",
       "      <td>2015-01-04 00:05:00</td>\n",
       "      <td>392</td>\n",
       "    </tr>\n",
       "    <tr>\n",
       "      <th>1</th>\n",
       "      <td>2015-01-04 01:05:00</td>\n",
       "      <td>384</td>\n",
       "    </tr>\n",
       "    <tr>\n",
       "      <th>2</th>\n",
       "      <td>2015-01-04 02:05:00</td>\n",
       "      <td>393</td>\n",
       "    </tr>\n",
       "    <tr>\n",
       "      <th>3</th>\n",
       "      <td>2015-01-04 03:05:00</td>\n",
       "      <td>399</td>\n",
       "    </tr>\n",
       "    <tr>\n",
       "      <th>4</th>\n",
       "      <td>2015-01-04 04:05:00</td>\n",
       "      <td>400</td>\n",
       "    </tr>\n",
       "  </tbody>\n",
       "</table>\n",
       "</div>"
      ],
      "text/plain": [
       "                  date  target\n",
       "0  2015-01-04 00:05:00     392\n",
       "1  2015-01-04 01:05:00     384\n",
       "2  2015-01-04 02:05:00     393\n",
       "3  2015-01-04 03:05:00     399\n",
       "4  2015-01-04 04:05:00     400"
      ]
     },
     "execution_count": 6,
     "metadata": {},
     "output_type": "execute_result"
    }
   ],
   "source": [
    "Y_train.head()"
   ]
  },
  {
   "cell_type": "code",
   "execution_count": 7,
   "metadata": {},
   "outputs": [],
   "source": [
    "Y_subs.rename(columns={0:\"date\",1:\"target\"}, inplace=True)"
   ]
  },
  {
   "cell_type": "code",
   "execution_count": 8,
   "metadata": {},
   "outputs": [
    {
     "data": {
      "text/html": [
       "<div>\n",
       "<style scoped>\n",
       "    .dataframe tbody tr th:only-of-type {\n",
       "        vertical-align: middle;\n",
       "    }\n",
       "\n",
       "    .dataframe tbody tr th {\n",
       "        vertical-align: top;\n",
       "    }\n",
       "\n",
       "    .dataframe thead th {\n",
       "        text-align: right;\n",
       "    }\n",
       "</style>\n",
       "<table border=\"1\" class=\"dataframe\">\n",
       "  <thead>\n",
       "    <tr style=\"text-align: right;\">\n",
       "      <th></th>\n",
       "      <th>date</th>\n",
       "      <th>target</th>\n",
       "    </tr>\n",
       "  </thead>\n",
       "  <tbody>\n",
       "    <tr>\n",
       "      <th>0</th>\n",
       "      <td>2018-05-04 00:05:00</td>\n",
       "      <td>420</td>\n",
       "    </tr>\n",
       "    <tr>\n",
       "      <th>1</th>\n",
       "      <td>2018-05-04 01:05:00</td>\n",
       "      <td>420</td>\n",
       "    </tr>\n",
       "    <tr>\n",
       "      <th>2</th>\n",
       "      <td>2018-05-04 02:05:00</td>\n",
       "      <td>420</td>\n",
       "    </tr>\n",
       "    <tr>\n",
       "      <th>3</th>\n",
       "      <td>2018-05-04 03:05:00</td>\n",
       "      <td>420</td>\n",
       "    </tr>\n",
       "    <tr>\n",
       "      <th>4</th>\n",
       "      <td>2018-05-04 04:05:00</td>\n",
       "      <td>420</td>\n",
       "    </tr>\n",
       "  </tbody>\n",
       "</table>\n",
       "</div>"
      ],
      "text/plain": [
       "                  date  target\n",
       "0  2018-05-04 00:05:00     420\n",
       "1  2018-05-04 01:05:00     420\n",
       "2  2018-05-04 02:05:00     420\n",
       "3  2018-05-04 03:05:00     420\n",
       "4  2018-05-04 04:05:00     420"
      ]
     },
     "execution_count": 8,
     "metadata": {},
     "output_type": "execute_result"
    }
   ],
   "source": [
    "Y_subs.head()"
   ]
  },
  {
   "cell_type": "code",
   "execution_count": 9,
   "metadata": {},
   "outputs": [],
   "source": [
    "df = X_data.merge(Y_train, on='date')"
   ]
  },
  {
   "cell_type": "code",
   "execution_count": 10,
   "metadata": {
    "scrolled": true
   },
   "outputs": [
    {
     "data": {
      "text/html": [
       "<div>\n",
       "<style scoped>\n",
       "    .dataframe tbody tr th:only-of-type {\n",
       "        vertical-align: middle;\n",
       "    }\n",
       "\n",
       "    .dataframe tbody tr th {\n",
       "        vertical-align: top;\n",
       "    }\n",
       "\n",
       "    .dataframe thead th {\n",
       "        text-align: right;\n",
       "    }\n",
       "</style>\n",
       "<table border=\"1\" class=\"dataframe\">\n",
       "  <thead>\n",
       "    <tr style=\"text-align: right;\">\n",
       "      <th></th>\n",
       "      <th>date</th>\n",
       "      <th>T_data_1_1</th>\n",
       "      <th>T_data_1_2</th>\n",
       "      <th>T_data_1_3</th>\n",
       "      <th>T_data_2_1</th>\n",
       "      <th>T_data_2_2</th>\n",
       "      <th>T_data_2_3</th>\n",
       "      <th>T_data_3_1</th>\n",
       "      <th>T_data_3_2</th>\n",
       "      <th>T_data_3_3</th>\n",
       "      <th>T_data_4_1</th>\n",
       "      <th>T_data_4_2</th>\n",
       "      <th>T_data_4_3</th>\n",
       "      <th>T_data_5_1</th>\n",
       "      <th>T_data_5_2</th>\n",
       "      <th>T_data_5_3</th>\n",
       "      <th>H_data</th>\n",
       "      <th>AH_data</th>\n",
       "      <th>target</th>\n",
       "    </tr>\n",
       "  </thead>\n",
       "  <tbody>\n",
       "    <tr>\n",
       "      <th>0</th>\n",
       "      <td>2015-01-04 00:05:00</td>\n",
       "      <td>277</td>\n",
       "      <td>326</td>\n",
       "      <td>273</td>\n",
       "      <td>322</td>\n",
       "      <td>335</td>\n",
       "      <td>352</td>\n",
       "      <td>505</td>\n",
       "      <td>501</td>\n",
       "      <td>670</td>\n",
       "      <td>326</td>\n",
       "      <td>379</td>\n",
       "      <td>337</td>\n",
       "      <td>231</td>\n",
       "      <td>236</td>\n",
       "      <td>242</td>\n",
       "      <td>153.77</td>\n",
       "      <td>7.90</td>\n",
       "      <td>392</td>\n",
       "    </tr>\n",
       "    <tr>\n",
       "      <th>1</th>\n",
       "      <td>2015-01-04 01:05:00</td>\n",
       "      <td>277</td>\n",
       "      <td>253</td>\n",
       "      <td>272</td>\n",
       "      <td>320</td>\n",
       "      <td>333</td>\n",
       "      <td>355</td>\n",
       "      <td>500</td>\n",
       "      <td>501</td>\n",
       "      <td>687</td>\n",
       "      <td>337</td>\n",
       "      <td>396</td>\n",
       "      <td>335</td>\n",
       "      <td>234</td>\n",
       "      <td>242</td>\n",
       "      <td>230</td>\n",
       "      <td>158.27</td>\n",
       "      <td>6.96</td>\n",
       "      <td>384</td>\n",
       "    </tr>\n",
       "    <tr>\n",
       "      <th>2</th>\n",
       "      <td>2015-01-04 02:05:00</td>\n",
       "      <td>262</td>\n",
       "      <td>218</td>\n",
       "      <td>260</td>\n",
       "      <td>326</td>\n",
       "      <td>336</td>\n",
       "      <td>330</td>\n",
       "      <td>505</td>\n",
       "      <td>499</td>\n",
       "      <td>443</td>\n",
       "      <td>347</td>\n",
       "      <td>399</td>\n",
       "      <td>332</td>\n",
       "      <td>243</td>\n",
       "      <td>251</td>\n",
       "      <td>240</td>\n",
       "      <td>153.36</td>\n",
       "      <td>7.29</td>\n",
       "      <td>393</td>\n",
       "    </tr>\n",
       "    <tr>\n",
       "      <th>3</th>\n",
       "      <td>2015-01-04 03:05:00</td>\n",
       "      <td>243</td>\n",
       "      <td>238</td>\n",
       "      <td>252</td>\n",
       "      <td>327</td>\n",
       "      <td>329</td>\n",
       "      <td>308</td>\n",
       "      <td>520</td>\n",
       "      <td>498</td>\n",
       "      <td>540</td>\n",
       "      <td>342</td>\n",
       "      <td>387</td>\n",
       "      <td>334</td>\n",
       "      <td>257</td>\n",
       "      <td>258</td>\n",
       "      <td>246</td>\n",
       "      <td>153.21</td>\n",
       "      <td>7.11</td>\n",
       "      <td>399</td>\n",
       "    </tr>\n",
       "    <tr>\n",
       "      <th>4</th>\n",
       "      <td>2015-01-04 04:05:00</td>\n",
       "      <td>236</td>\n",
       "      <td>238</td>\n",
       "      <td>245</td>\n",
       "      <td>323</td>\n",
       "      <td>320</td>\n",
       "      <td>318</td>\n",
       "      <td>522</td>\n",
       "      <td>501</td>\n",
       "      <td>524</td>\n",
       "      <td>343</td>\n",
       "      <td>371</td>\n",
       "      <td>344</td>\n",
       "      <td>264</td>\n",
       "      <td>263</td>\n",
       "      <td>265</td>\n",
       "      <td>195.71</td>\n",
       "      <td>7.97</td>\n",
       "      <td>400</td>\n",
       "    </tr>\n",
       "  </tbody>\n",
       "</table>\n",
       "</div>"
      ],
      "text/plain": [
       "                  date  T_data_1_1  T_data_1_2  T_data_1_3  T_data_2_1  \\\n",
       "0  2015-01-04 00:05:00         277         326         273         322   \n",
       "1  2015-01-04 01:05:00         277         253         272         320   \n",
       "2  2015-01-04 02:05:00         262         218         260         326   \n",
       "3  2015-01-04 03:05:00         243         238         252         327   \n",
       "4  2015-01-04 04:05:00         236         238         245         323   \n",
       "\n",
       "   T_data_2_2  T_data_2_3  T_data_3_1  T_data_3_2  T_data_3_3  T_data_4_1  \\\n",
       "0         335         352         505         501         670         326   \n",
       "1         333         355         500         501         687         337   \n",
       "2         336         330         505         499         443         347   \n",
       "3         329         308         520         498         540         342   \n",
       "4         320         318         522         501         524         343   \n",
       "\n",
       "   T_data_4_2  T_data_4_3  T_data_5_1  T_data_5_2  T_data_5_3  H_data  \\\n",
       "0         379         337         231         236         242  153.77   \n",
       "1         396         335         234         242         230  158.27   \n",
       "2         399         332         243         251         240  153.36   \n",
       "3         387         334         257         258         246  153.21   \n",
       "4         371         344         264         263         265  195.71   \n",
       "\n",
       "   AH_data  target  \n",
       "0     7.90     392  \n",
       "1     6.96     384  \n",
       "2     7.29     393  \n",
       "3     7.11     399  \n",
       "4     7.97     400  "
      ]
     },
     "execution_count": 10,
     "metadata": {},
     "output_type": "execute_result"
    }
   ],
   "source": [
    "df.head()"
   ]
  },
  {
   "cell_type": "code",
   "execution_count": 11,
   "metadata": {},
   "outputs": [],
   "source": [
    "X = df.drop(['date','target'], axis=1)\n",
    "y = df.target"
   ]
  },
  {
   "cell_type": "code",
   "execution_count": 12,
   "metadata": {},
   "outputs": [],
   "source": [
    "X_train, X_test, y_train, y_test = train_test_split(\n",
    "    X, y, test_size=0.2, random_state=127)"
   ]
  },
  {
   "cell_type": "markdown",
   "metadata": {},
   "source": [
    "### Обучение модели"
   ]
  },
  {
   "cell_type": "markdown",
   "metadata": {},
   "source": [
    "На данный момент CatBoost считается одним из лучших алгоритмов в задачах регрессии. Попробуем его и LightGBM."
   ]
  },
  {
   "cell_type": "code",
   "execution_count": 13,
   "metadata": {},
   "outputs": [],
   "source": [
    "model_catboost = CatBoostRegressor(iterations = 2000,\n",
    "                           learning_rate=0.1,\n",
    "                           depth = 10,\n",
    "                           loss_function='RMSE',\n",
    "                           reg_lambda=7,\n",
    "                           bootstrap_type='Bernoulli',\n",
    "                           subsample=0.8,\n",
    "                           random_state=322,\n",
    "                           verbose=False\n",
    "                          )"
   ]
  },
  {
   "cell_type": "code",
   "execution_count": 14,
   "metadata": {},
   "outputs": [
    {
     "data": {
      "text/plain": [
       "<catboost.core.CatBoostRegressor at 0x7fc6c91177d0>"
      ]
     },
     "execution_count": 14,
     "metadata": {},
     "output_type": "execute_result"
    }
   ],
   "source": [
    "model_catboost.fit(X_train, y_train)"
   ]
  },
  {
   "cell_type": "code",
   "execution_count": 15,
   "metadata": {},
   "outputs": [
    {
     "name": "stdout",
     "output_type": "stream",
     "text": [
      "MAE:  9.41164328236063\n",
      "R2:  0.9257392105892747\n"
     ]
    }
   ],
   "source": [
    "preds = model_catboost.predict(X_test)\n",
    "print(\"MAE: \" , mean_absolute_error(y_test, preds))\n",
    "print(\"R2: \", r2_score(y_test, preds))"
   ]
  },
  {
   "cell_type": "code",
   "execution_count": 16,
   "metadata": {},
   "outputs": [],
   "source": [
    "model_lgbm = LGBMRegressor(boosting_type='gbdt',\n",
    "                       colsample_bytree=0.8,\n",
    "                       learning_rate=0.05,\n",
    "                       n_estimators=2300,\n",
    "                       num_leaves=14,\n",
    "                       subsample=0.6,\n",
    "                       reg_lambda=7.5,\n",
    "                       metric='mae',\n",
    "                       random_state=0,\n",
    "                       )"
   ]
  },
  {
   "cell_type": "code",
   "execution_count": 17,
   "metadata": {},
   "outputs": [
    {
     "data": {
      "text/plain": [
       "LGBMRegressor(colsample_bytree=0.8, learning_rate=0.05, metric='mae',\n",
       "              n_estimators=2300, num_leaves=14, random_state=0, reg_lambda=7.5,\n",
       "              subsample=0.6)"
      ]
     },
     "execution_count": 17,
     "metadata": {},
     "output_type": "execute_result"
    }
   ],
   "source": [
    "model_lgbm.fit(X_train, y_train)"
   ]
  },
  {
   "cell_type": "code",
   "execution_count": 18,
   "metadata": {},
   "outputs": [
    {
     "name": "stdout",
     "output_type": "stream",
     "text": [
      "MAE:  9.846704445010033\n",
      "R2:  0.9210279950470792\n"
     ]
    }
   ],
   "source": [
    "preds = model_lgbm.predict(X_test)\n",
    "print(\"MAE: \" , mean_absolute_error(y_test, preds))\n",
    "print(\"R2: \", r2_score(y_test, preds))"
   ]
  },
  {
   "cell_type": "code",
   "execution_count": 19,
   "metadata": {},
   "outputs": [],
   "source": [
    "model_xgb = XGBRegressor(eta = 0.1,\n",
    "                         max_depth = 7,\n",
    "                        subsample = 1)"
   ]
  },
  {
   "cell_type": "code",
   "execution_count": 20,
   "metadata": {},
   "outputs": [
    {
     "data": {
      "text/plain": [
       "XGBRegressor(base_score=0.5, booster='gbtree', colsample_bylevel=1,\n",
       "             colsample_bynode=1, colsample_bytree=1, eta=0.1, gamma=0,\n",
       "             gpu_id=-1, importance_type='gain', interaction_constraints='',\n",
       "             learning_rate=0.100000001, max_delta_step=0, max_depth=7,\n",
       "             min_child_weight=1, missing=nan, monotone_constraints='()',\n",
       "             n_estimators=100, n_jobs=0, num_parallel_tree=1, random_state=0,\n",
       "             reg_alpha=0, reg_lambda=1, scale_pos_weight=1, subsample=1,\n",
       "             tree_method='exact', validate_parameters=1, verbosity=None)"
      ]
     },
     "execution_count": 20,
     "metadata": {},
     "output_type": "execute_result"
    }
   ],
   "source": [
    "model_xgb.fit(X_train, y_train)"
   ]
  },
  {
   "cell_type": "code",
   "execution_count": 21,
   "metadata": {},
   "outputs": [
    {
     "name": "stdout",
     "output_type": "stream",
     "text": [
      "MAE:  10.025015055408252\n",
      "R2:  0.9177363353392795\n"
     ]
    }
   ],
   "source": [
    "preds = model_xgb.predict(X_test)\n",
    "print(\"MAE: \" , mean_absolute_error(y_test, preds))\n",
    "print(\"R2: \", r2_score(y_test, preds))"
   ]
  },
  {
   "cell_type": "markdown",
   "metadata": {},
   "source": [
    "Составим ансамбль из трёх моделей с коэфициентами 0.5, 0.3 и 0.2 соотственно результатам на валидационном наборе"
   ]
  },
  {
   "cell_type": "markdown",
   "metadata": {},
   "source": [
    "### Загрузим submission"
   ]
  },
  {
   "cell_type": "code",
   "execution_count": 22,
   "metadata": {},
   "outputs": [],
   "source": [
    "x_submit = X[X.index.isin(Y_subs.index)]"
   ]
  },
  {
   "cell_type": "code",
   "execution_count": 23,
   "metadata": {},
   "outputs": [
    {
     "data": {
      "text/html": [
       "<div>\n",
       "<style scoped>\n",
       "    .dataframe tbody tr th:only-of-type {\n",
       "        vertical-align: middle;\n",
       "    }\n",
       "\n",
       "    .dataframe tbody tr th {\n",
       "        vertical-align: top;\n",
       "    }\n",
       "\n",
       "    .dataframe thead th {\n",
       "        text-align: right;\n",
       "    }\n",
       "</style>\n",
       "<table border=\"1\" class=\"dataframe\">\n",
       "  <thead>\n",
       "    <tr style=\"text-align: right;\">\n",
       "      <th></th>\n",
       "      <th>T_data_1_1</th>\n",
       "      <th>T_data_1_2</th>\n",
       "      <th>T_data_1_3</th>\n",
       "      <th>T_data_2_1</th>\n",
       "      <th>T_data_2_2</th>\n",
       "      <th>T_data_2_3</th>\n",
       "      <th>T_data_3_1</th>\n",
       "      <th>T_data_3_2</th>\n",
       "      <th>T_data_3_3</th>\n",
       "      <th>T_data_4_1</th>\n",
       "      <th>T_data_4_2</th>\n",
       "      <th>T_data_4_3</th>\n",
       "      <th>T_data_5_1</th>\n",
       "      <th>T_data_5_2</th>\n",
       "      <th>T_data_5_3</th>\n",
       "      <th>H_data</th>\n",
       "      <th>AH_data</th>\n",
       "    </tr>\n",
       "  </thead>\n",
       "  <tbody>\n",
       "    <tr>\n",
       "      <th>0</th>\n",
       "      <td>277</td>\n",
       "      <td>326</td>\n",
       "      <td>273</td>\n",
       "      <td>322</td>\n",
       "      <td>335</td>\n",
       "      <td>352</td>\n",
       "      <td>505</td>\n",
       "      <td>501</td>\n",
       "      <td>670</td>\n",
       "      <td>326</td>\n",
       "      <td>379</td>\n",
       "      <td>337</td>\n",
       "      <td>231</td>\n",
       "      <td>236</td>\n",
       "      <td>242</td>\n",
       "      <td>153.77</td>\n",
       "      <td>7.90</td>\n",
       "    </tr>\n",
       "    <tr>\n",
       "      <th>1</th>\n",
       "      <td>277</td>\n",
       "      <td>253</td>\n",
       "      <td>272</td>\n",
       "      <td>320</td>\n",
       "      <td>333</td>\n",
       "      <td>355</td>\n",
       "      <td>500</td>\n",
       "      <td>501</td>\n",
       "      <td>687</td>\n",
       "      <td>337</td>\n",
       "      <td>396</td>\n",
       "      <td>335</td>\n",
       "      <td>234</td>\n",
       "      <td>242</td>\n",
       "      <td>230</td>\n",
       "      <td>158.27</td>\n",
       "      <td>6.96</td>\n",
       "    </tr>\n",
       "    <tr>\n",
       "      <th>2</th>\n",
       "      <td>262</td>\n",
       "      <td>218</td>\n",
       "      <td>260</td>\n",
       "      <td>326</td>\n",
       "      <td>336</td>\n",
       "      <td>330</td>\n",
       "      <td>505</td>\n",
       "      <td>499</td>\n",
       "      <td>443</td>\n",
       "      <td>347</td>\n",
       "      <td>399</td>\n",
       "      <td>332</td>\n",
       "      <td>243</td>\n",
       "      <td>251</td>\n",
       "      <td>240</td>\n",
       "      <td>153.36</td>\n",
       "      <td>7.29</td>\n",
       "    </tr>\n",
       "    <tr>\n",
       "      <th>3</th>\n",
       "      <td>243</td>\n",
       "      <td>238</td>\n",
       "      <td>252</td>\n",
       "      <td>327</td>\n",
       "      <td>329</td>\n",
       "      <td>308</td>\n",
       "      <td>520</td>\n",
       "      <td>498</td>\n",
       "      <td>540</td>\n",
       "      <td>342</td>\n",
       "      <td>387</td>\n",
       "      <td>334</td>\n",
       "      <td>257</td>\n",
       "      <td>258</td>\n",
       "      <td>246</td>\n",
       "      <td>153.21</td>\n",
       "      <td>7.11</td>\n",
       "    </tr>\n",
       "    <tr>\n",
       "      <th>4</th>\n",
       "      <td>236</td>\n",
       "      <td>238</td>\n",
       "      <td>245</td>\n",
       "      <td>323</td>\n",
       "      <td>320</td>\n",
       "      <td>318</td>\n",
       "      <td>522</td>\n",
       "      <td>501</td>\n",
       "      <td>524</td>\n",
       "      <td>343</td>\n",
       "      <td>371</td>\n",
       "      <td>344</td>\n",
       "      <td>264</td>\n",
       "      <td>263</td>\n",
       "      <td>265</td>\n",
       "      <td>195.71</td>\n",
       "      <td>7.97</td>\n",
       "    </tr>\n",
       "  </tbody>\n",
       "</table>\n",
       "</div>"
      ],
      "text/plain": [
       "   T_data_1_1  T_data_1_2  T_data_1_3  T_data_2_1  T_data_2_2  T_data_2_3  \\\n",
       "0         277         326         273         322         335         352   \n",
       "1         277         253         272         320         333         355   \n",
       "2         262         218         260         326         336         330   \n",
       "3         243         238         252         327         329         308   \n",
       "4         236         238         245         323         320         318   \n",
       "\n",
       "   T_data_3_1  T_data_3_2  T_data_3_3  T_data_4_1  T_data_4_2  T_data_4_3  \\\n",
       "0         505         501         670         326         379         337   \n",
       "1         500         501         687         337         396         335   \n",
       "2         505         499         443         347         399         332   \n",
       "3         520         498         540         342         387         334   \n",
       "4         522         501         524         343         371         344   \n",
       "\n",
       "   T_data_5_1  T_data_5_2  T_data_5_3  H_data  AH_data  \n",
       "0         231         236         242  153.77     7.90  \n",
       "1         234         242         230  158.27     6.96  \n",
       "2         243         251         240  153.36     7.29  \n",
       "3         257         258         246  153.21     7.11  \n",
       "4         264         263         265  195.71     7.97  "
      ]
     },
     "execution_count": 23,
     "metadata": {},
     "output_type": "execute_result"
    }
   ],
   "source": [
    "x_submit.head()"
   ]
  },
  {
   "cell_type": "code",
   "execution_count": 24,
   "metadata": {},
   "outputs": [
    {
     "data": {
      "text/plain": [
       "array([392.96219366, 391.80028545, 399.34068333, ..., 418.05458666,\n",
       "       430.40211916, 439.9435781 ])"
      ]
     },
     "execution_count": 24,
     "metadata": {},
     "output_type": "execute_result"
    }
   ],
   "source": [
    "preds_catboost = model_catboost.predict(x_submit)\n",
    "preds_lgbm = model_lgbm.predict(x_submit)\n",
    "preds_xgb = model_xgb.predict(x_submit)\n",
    "preds = 0.5 * preds_catboost + 0.3 * preds_lgbm + 0.2 * preds_xgb\n",
    "preds"
   ]
  },
  {
   "cell_type": "code",
   "execution_count": 25,
   "metadata": {
    "scrolled": true
   },
   "outputs": [
    {
     "data": {
      "text/html": [
       "<div>\n",
       "<style scoped>\n",
       "    .dataframe tbody tr th:only-of-type {\n",
       "        vertical-align: middle;\n",
       "    }\n",
       "\n",
       "    .dataframe tbody tr th {\n",
       "        vertical-align: top;\n",
       "    }\n",
       "\n",
       "    .dataframe thead th {\n",
       "        text-align: right;\n",
       "    }\n",
       "</style>\n",
       "<table border=\"1\" class=\"dataframe\">\n",
       "  <thead>\n",
       "    <tr style=\"text-align: right;\">\n",
       "      <th></th>\n",
       "      <th>date</th>\n",
       "      <th>target</th>\n",
       "    </tr>\n",
       "  </thead>\n",
       "  <tbody>\n",
       "    <tr>\n",
       "      <th>0</th>\n",
       "      <td>2018-05-04 00:05:00</td>\n",
       "      <td>392.962194</td>\n",
       "    </tr>\n",
       "    <tr>\n",
       "      <th>1</th>\n",
       "      <td>2018-05-04 01:05:00</td>\n",
       "      <td>391.800285</td>\n",
       "    </tr>\n",
       "    <tr>\n",
       "      <th>2</th>\n",
       "      <td>2018-05-04 02:05:00</td>\n",
       "      <td>399.340683</td>\n",
       "    </tr>\n",
       "    <tr>\n",
       "      <th>3</th>\n",
       "      <td>2018-05-04 03:05:00</td>\n",
       "      <td>383.645535</td>\n",
       "    </tr>\n",
       "    <tr>\n",
       "      <th>4</th>\n",
       "      <td>2018-05-04 04:05:00</td>\n",
       "      <td>402.281265</td>\n",
       "    </tr>\n",
       "    <tr>\n",
       "      <th>...</th>\n",
       "      <td>...</td>\n",
       "      <td>...</td>\n",
       "    </tr>\n",
       "    <tr>\n",
       "      <th>5803</th>\n",
       "      <td>2018-12-31 19:05:00</td>\n",
       "      <td>384.105214</td>\n",
       "    </tr>\n",
       "    <tr>\n",
       "      <th>5804</th>\n",
       "      <td>2018-12-31 20:05:00</td>\n",
       "      <td>396.347789</td>\n",
       "    </tr>\n",
       "    <tr>\n",
       "      <th>5805</th>\n",
       "      <td>2018-12-31 21:05:00</td>\n",
       "      <td>418.054587</td>\n",
       "    </tr>\n",
       "    <tr>\n",
       "      <th>5806</th>\n",
       "      <td>2018-12-31 22:05:00</td>\n",
       "      <td>430.402119</td>\n",
       "    </tr>\n",
       "    <tr>\n",
       "      <th>5807</th>\n",
       "      <td>2018-12-31 23:05:00</td>\n",
       "      <td>439.943578</td>\n",
       "    </tr>\n",
       "  </tbody>\n",
       "</table>\n",
       "<p>5808 rows × 2 columns</p>\n",
       "</div>"
      ],
      "text/plain": [
       "                     date      target\n",
       "0     2018-05-04 00:05:00  392.962194\n",
       "1     2018-05-04 01:05:00  391.800285\n",
       "2     2018-05-04 02:05:00  399.340683\n",
       "3     2018-05-04 03:05:00  383.645535\n",
       "4     2018-05-04 04:05:00  402.281265\n",
       "...                   ...         ...\n",
       "5803  2018-12-31 19:05:00  384.105214\n",
       "5804  2018-12-31 20:05:00  396.347789\n",
       "5805  2018-12-31 21:05:00  418.054587\n",
       "5806  2018-12-31 22:05:00  430.402119\n",
       "5807  2018-12-31 23:05:00  439.943578\n",
       "\n",
       "[5808 rows x 2 columns]"
      ]
     },
     "execution_count": 25,
     "metadata": {},
     "output_type": "execute_result"
    }
   ],
   "source": [
    "Y_subs.target = preds\n",
    "Y_subs"
   ]
  },
  {
   "cell_type": "code",
   "execution_count": 26,
   "metadata": {},
   "outputs": [],
   "source": [
    "Y_subs.to_csv('submissions_severstal.csv')"
   ]
  },
  {
   "cell_type": "code",
   "execution_count": null,
   "metadata": {},
   "outputs": [],
   "source": []
  }
 ],
 "metadata": {
  "kernelspec": {
   "display_name": "Python 3",
   "language": "python",
   "name": "python3"
  },
  "language_info": {
   "codemirror_mode": {
    "name": "ipython",
    "version": 3
   },
   "file_extension": ".py",
   "mimetype": "text/x-python",
   "name": "python",
   "nbconvert_exporter": "python",
   "pygments_lexer": "ipython3",
   "version": "3.7.6"
  }
 },
 "nbformat": 4,
 "nbformat_minor": 4
}
