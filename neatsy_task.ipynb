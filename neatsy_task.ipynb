{
 "cells": [
  {
   "cell_type": "markdown",
   "metadata": {},
   "source": [
    "##### Задачку поймал на собеседовании в стартап \n",
    "##### Дана функция f(x,y), где x и y могут принмать значения от 1 до 1000, только целочисленные. Функция постоянно растёт. \n",
    "##### Дано значение z = f(x,y), пусть 350. Нужно найти все значения x и y, при которых будет выполняться равенство."
   ]
  },
  {
   "cell_type": "code",
   "execution_count": 1,
   "metadata": {},
   "outputs": [],
   "source": [
    "function = lambda x,y: int(x)*int(y) #функция, которую не видит разработчик"
   ]
  },
  {
   "cell_type": "code",
   "execution_count": 2,
   "metadata": {},
   "outputs": [
    {
     "data": {
      "text/plain": [
       "16"
      ]
     },
     "execution_count": 2,
     "metadata": {},
     "output_type": "execute_result"
    }
   ],
   "source": [
    "function(4,4)"
   ]
  },
  {
   "cell_type": "code",
   "execution_count": 3,
   "metadata": {},
   "outputs": [],
   "source": [
    "z1 = 350 #значение функции, при котором нужно найти значения x и y"
   ]
  },
  {
   "cell_type": "code",
   "execution_count": 4,
   "metadata": {},
   "outputs": [],
   "source": [
    "result_array = [] #формируем список для будущих ответов"
   ]
  },
  {
   "cell_type": "code",
   "execution_count": 5,
   "metadata": {},
   "outputs": [],
   "source": [
    "def f_calc():\n",
    "    for x in range(1,1001):\n",
    "        for y in range(1,1001):\n",
    "            z = function(x,y)\n",
    "            if z>z1:  # для экономии времени, если значение функции больше z1, мы можем прекратить иттерацию и начать следующую\n",
    "                break # это работает, потому что задано условие, что функция постоянно растёт\n",
    "                      # то есть значения, больше 350 нам просто не интересны\n",
    "            elif z == 100:\n",
    "                result_array.append([x,y])"
   ]
  },
  {
   "cell_type": "code",
   "execution_count": 6,
   "metadata": {},
   "outputs": [],
   "source": [
    "f_calc()"
   ]
  },
  {
   "cell_type": "code",
   "execution_count": 7,
   "metadata": {},
   "outputs": [
    {
     "data": {
      "text/plain": [
       "[[1, 100],\n",
       " [2, 50],\n",
       " [4, 25],\n",
       " [5, 20],\n",
       " [10, 10],\n",
       " [20, 5],\n",
       " [25, 4],\n",
       " [50, 2],\n",
       " [100, 1]]"
      ]
     },
     "execution_count": 7,
     "metadata": {},
     "output_type": "execute_result"
    }
   ],
   "source": [
    "result_array"
   ]
  },
  {
   "cell_type": "code",
   "execution_count": null,
   "metadata": {},
   "outputs": [],
   "source": []
  }
 ],
 "metadata": {
  "kernelspec": {
   "display_name": "Python 3",
   "language": "python",
   "name": "python3"
  },
  "language_info": {
   "codemirror_mode": {
    "name": "ipython",
    "version": 3
   },
   "file_extension": ".py",
   "mimetype": "text/x-python",
   "name": "python",
   "nbconvert_exporter": "python",
   "pygments_lexer": "ipython3",
   "version": "3.7.6"
  }
 },
 "nbformat": 4,
 "nbformat_minor": 2
}
